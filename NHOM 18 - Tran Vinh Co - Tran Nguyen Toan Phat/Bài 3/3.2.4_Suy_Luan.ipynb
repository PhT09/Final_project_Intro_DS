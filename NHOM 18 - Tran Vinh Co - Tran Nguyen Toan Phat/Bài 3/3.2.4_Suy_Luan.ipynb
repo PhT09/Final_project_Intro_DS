{
 "cells": [
  {
   "cell_type": "code",
   "execution_count": null,
   "id": "b62eaa71-0ebe-4ec5-9094-020f5ad86538",
   "metadata": {},
   "outputs": [
    {
     "name": "stdout",
     "output_type": "stream",
     "text": [
      "=== Báo cáo đánh giá ===\n",
      "                 precision    recall  f1-score   support\n",
      "\n",
      "Albert Einstein       0.38      1.00      0.55         3\n",
      " Allen Saunders       0.00      0.00      0.00         1\n",
      "  Douglas Adams       0.00      0.00      0.00         1\n",
      "    Elie Wiesel       0.00      0.00      0.00         1\n",
      "   J.K. Rowling       0.00      0.00      0.00         1\n",
      " Marilyn Monroe       0.00      0.00      0.00         1\n",
      "\n",
      "       accuracy                           0.38         8\n",
      "      macro avg       0.06      0.17      0.09         8\n",
      "   weighted avg       0.14      0.38      0.20         8\n",
      "\n",
      "\n",
      "===> Hai tác giả có phong cách nói giống nhau nhất là:\n",
      "Dr. Seuss và William Nicholson (điểm tương đồng: 0.142)\n"
     ]
    },
    {
     "name": "stderr",
     "output_type": "stream",
     "text": [
      "c:\\Users\\USER\\AppData\\Local\\Programs\\Python\\Python310\\lib\\site-packages\\sklearn\\metrics\\_classification.py:1565: UndefinedMetricWarning: Precision is ill-defined and being set to 0.0 in labels with no predicted samples. Use `zero_division` parameter to control this behavior.\n",
      "  _warn_prf(average, modifier, f\"{metric.capitalize()} is\", len(result))\n",
      "c:\\Users\\USER\\AppData\\Local\\Programs\\Python\\Python310\\lib\\site-packages\\sklearn\\metrics\\_classification.py:1565: UndefinedMetricWarning: Precision is ill-defined and being set to 0.0 in labels with no predicted samples. Use `zero_division` parameter to control this behavior.\n",
      "  _warn_prf(average, modifier, f\"{metric.capitalize()} is\", len(result))\n",
      "c:\\Users\\USER\\AppData\\Local\\Programs\\Python\\Python310\\lib\\site-packages\\sklearn\\metrics\\_classification.py:1565: UndefinedMetricWarning: Precision is ill-defined and being set to 0.0 in labels with no predicted samples. Use `zero_division` parameter to control this behavior.\n",
      "  _warn_prf(average, modifier, f\"{metric.capitalize()} is\", len(result))\n"
     ]
    }
   ],
   "source": [
    "import pandas as pd\n",
    "from sklearn.feature_extraction.text import TfidfVectorizer\n",
    "from sklearn.model_selection import train_test_split\n",
    "from sklearn.naive_bayes import MultinomialNB\n",
    "from sklearn.metrics import classification_report\n",
    "from sklearn.metrics.pairwise import cosine_similarity\n",
    "import numpy as np\n",
    "\n",
    "# 1. Đọc dữ liệu\n",
    "du_lieu = pd.read_csv(\"QuoteInsert_Tuoi.csv\")\n",
    "\n",
    "# 2. Lọc ra 2 cột cần thiết: Câu nói và Tác giả\n",
    "du_lieu = du_lieu[['Câu nói', 'Tác giả']].dropna()\n",
    "\n",
    "# 3. Trích xuất đặc trưng TF-IDF từ cột câu nói\n",
    "bo_vector_hoa = TfidfVectorizer(stop_words='english', ngram_range=(1,2))\n",
    "ma_tran_tfidf = bo_vector_hoa.fit_transform(du_lieu['Câu nói'])\n",
    "\n",
    "# 4. Phân chia tập huấn luyện và kiểm tra\n",
    "X_train, X_test, y_train, y_test = train_test_split(ma_tran_tfidf, du_lieu['Tác giả'], test_size=0.2, random_state=42)\n",
    "\n",
    "# 5. Huấn luyện mô hình phân loại (Naive Bayes)\n",
    "mo_hinh = MultinomialNB()\n",
    "mo_hinh.fit(X_train, y_train)\n",
    "\n",
    "# 6. Dự đoán và đánh giá kết quả\n",
    "y_du_doan = mo_hinh.predict(X_test)\n",
    "print(\"=== Báo cáo đánh giá ===\")\n",
    "print(classification_report(y_test, y_du_doan))\n",
    "\n",
    "# Tính độ tương đồng phong cách giữa các tác giả\n",
    "# Tính vector trung bình TF-IDF cho mỗi tác giả\n",
    "danh_sach_tac_gia = du_lieu['Tác giả'].unique()\n",
    "vector_tac_gia = {}\n",
    "\n",
    "for tac_gia in danh_sach_tac_gia:\n",
    "    cau_noi_tac_gia = du_lieu[du_lieu['Tác giả'] == tac_gia]['Câu nói']\n",
    "    tfidf_tac_gia = bo_vector_hoa.transform(cau_noi_tac_gia)\n",
    "    \n",
    "    vector_trung_binh = tfidf_tac_gia.mean(axis=0).A1\n",
    "    vector_tac_gia[tac_gia] = vector_trung_binh\n",
    "\n",
    "# Tính ma trận độ tương đồng\n",
    "ten_tac_gia = list(vector_tac_gia.keys())\n",
    "ma_tran_vectors = np.vstack([vector_tac_gia[tg] for tg in ten_tac_gia])\n",
    "ma_tran_tuong_dong = cosine_similarity(ma_tran_vectors)\n",
    "\n",
    "# Tìm hai tác giả giống nhau nhất\n",
    "tuong_dong_cao_nhat = 0\n",
    "tac_gia_1, tac_gia_2 = None, None\n",
    "\n",
    "for i in range(len(ten_tac_gia)):\n",
    "    for j in range(i + 1, len(ten_tac_gia)):\n",
    "        diem = ma_tran_tuong_dong[i, j]\n",
    "        if diem > tuong_dong_cao_nhat:\n",
    "            tuong_dong_cao_nhat = diem\n",
    "            tac_gia_1 = ten_tac_gia[i]\n",
    "            tac_gia_2 = ten_tac_gia[j]\n",
    "\n",
    "print(f\"\\n===> Hai tác giả có phong cách nói giống nhau nhất là:\\n{tac_gia_1} và {tac_gia_2} (điểm tương đồng: {tuong_dong_cao_nhat:.3f})\")\n"
   ]
  },
  {
   "cell_type": "code",
   "execution_count": null,
   "id": "84062584-eaaf-4714-a42e-82ae92b2a739",
   "metadata": {},
   "outputs": [],
   "source": []
  }
 ],
 "metadata": {
  "kernelspec": {
   "display_name": "Python 3",
   "language": "python",
   "name": "python3"
  },
  "language_info": {
   "codemirror_mode": {
    "name": "ipython",
    "version": 3
   },
   "file_extension": ".py",
   "mimetype": "text/x-python",
   "name": "python",
   "nbconvert_exporter": "python",
   "pygments_lexer": "ipython3",
   "version": "3.10.9"
  }
 },
 "nbformat": 4,
 "nbformat_minor": 5
}
