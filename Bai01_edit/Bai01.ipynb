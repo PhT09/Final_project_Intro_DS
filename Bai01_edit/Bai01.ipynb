{
 "cells": [
  {
   "cell_type": "code",
   "execution_count": 2,
   "metadata": {},
   "outputs": [],
   "source": [
    "import pandas as pd\n",
    "\n",
    "df1 = pd.read_excel('Bai01.xlsx', sheet_name='Original')\n",
    "df2 = pd.read_excel('Bai01.xlsx', sheet_name='Translated')\n",
    "df3 = pd.read_excel('Bai01.xlsx', sheet_name='Generate')\n",
    "\n",
    "df1.to_csv('Data_Eng.csv', index=False)\n",
    "df2.to_csv('Data_Translated.csv', index=False)\n",
    "df3.to_csv('DChatGPT.csv', index=False)"
   ]
  }
 ],
 "metadata": {
  "kernelspec": {
   "display_name": "Python 3",
   "language": "python",
   "name": "python3"
  },
  "language_info": {
   "codemirror_mode": {
    "name": "ipython",
    "version": 3
   },
   "file_extension": ".py",
   "mimetype": "text/x-python",
   "name": "python",
   "nbconvert_exporter": "python",
   "pygments_lexer": "ipython3",
   "version": "3.10.9"
  }
 },
 "nbformat": 4,
 "nbformat_minor": 2
}
